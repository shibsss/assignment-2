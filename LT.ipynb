{
  "nbformat": 4,
  "nbformat_minor": 0,
  "metadata": {
    "colab": {
      "name": "LT.ipynb",
      "provenance": [],
      "collapsed_sections": [],
      "authorship_tag": "ABX9TyPNUJm/uxkNl/GIL4IZ7xIT",
      "include_colab_link": true
    },
    "kernelspec": {
      "name": "python3",
      "display_name": "Python 3"
    },
    "language_info": {
      "name": "python"
    }
  },
  "cells": [
    {
      "cell_type": "markdown",
      "metadata": {
        "id": "view-in-github",
        "colab_type": "text"
      },
      "source": [
        "<a href=\"https://colab.research.google.com/github/shibsss/assignment-2/blob/main/LT.ipynb\" target=\"_parent\"><img src=\"https://colab.research.google.com/assets/colab-badge.svg\" alt=\"Open In Colab\"/></a>"
      ]
    },
    {
      "cell_type": "code",
      "metadata": {
        "id": "lbxGyGdBiuLj",
        "colab": {
          "base_uri": "https://localhost:8080/"
        },
        "outputId": "024beec8-1bfe-4d25-83bc-1b64523dac88"
      },
      "source": [
        "ticket_number = {   'Ritika': 1,\n",
        "                    'Sam': 4, \n",
        "                    'John': 5, \n",
        "                    'Aadi': 2,\n",
        "                    'shreya':7\n",
        "                }\n",
        " \n",
        "for key, value in ticket_number.items():\n",
        "    print(key, ' : ', value)\n",
        "\n",
        "  \n",
        "\n",
        "N=int(input(\"Enter the max number of participants=\"))\n",
        "for i in range(N):\n",
        "\n",
        "  import random\n",
        "  \n",
        " \n",
        "test_list = [1, 4, 5, 2, 7]\n",
        "  \n",
        " \n",
        "print (\"participants lottery tickets no are : \" + str(test_list))\n",
        "\n",
        "random_num = random.choice(test_list)\n",
        "  \n",
        "\n",
        "print (\"the winner is : \" + str(random_num))\n",
        "\n",
        "\n",
        "\n",
        "\n",
        "\n",
        "\n",
        "\n",
        "\n",
        "\n",
        "\n",
        "\n",
        "\n"
      ],
      "execution_count": null,
      "outputs": [
        {
          "output_type": "stream",
          "text": [
            "Ritika  :  1\n",
            "Sam  :  4\n",
            "John  :  5\n",
            "Aadi  :  2\n",
            "shreya  :  7\n",
            "Enter the max number of participants=5\n",
            "participants lottery tickets no are : [1, 4, 5, 2, 7]\n",
            "the winner is : 5\n"
          ],
          "name": "stdout"
        }
      ]
    },
    {
      "cell_type": "code",
      "metadata": {
        "id": "4DPuCi0Ri54H"
      },
      "source": [
        "\n"
      ],
      "execution_count": null,
      "outputs": []
    }
  ]
}